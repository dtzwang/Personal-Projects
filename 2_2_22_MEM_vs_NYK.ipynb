{
  "nbformat": 4,
  "nbformat_minor": 0,
  "metadata": {
    "colab": {
      "name": "2/2/22 MEM vs NYK.ipynb",
      "provenance": [],
      "collapsed_sections": []
    },
    "kernelspec": {
      "name": "python3",
      "display_name": "Python 3"
    },
    "language_info": {
      "name": "python"
    }
  },
  "cells": [
    {
      "cell_type": "code",
      "execution_count": null,
      "metadata": {
        "id": "oqL1crPSVPo9"
      },
      "outputs": [],
      "source": [
        "import pandas as pd\n",
        "import numpy as np\n",
        "import random as rnd\n",
        "import matplotlib.pyplot as plt\n"
      ]
    },
    {
      "cell_type": "code",
      "source": [
        "games = pd.read_csv(\"games.csv\")\n",
        "teams = pd.read_csv(\"teams.csv\")"
      ],
      "metadata": {
        "id": "GPDAicmTWWMd"
      },
      "execution_count": null,
      "outputs": []
    },
    {
      "cell_type": "code",
      "source": [
        "mem_games = games[games.TEAM_ID_away == 1610612763]\n",
        "nyk_games = games[games.HOME_TEAM_ID ==1610612752]\n",
        "mem_games"
      ],
      "metadata": {
        "colab": {
          "base_uri": "https://localhost:8080/",
          "height": 488
        },
        "id": "jJ9Tb1_fWhbe",
        "outputId": "9ff9824d-3813-4995-9c0a-50727eabfc0d"
      },
      "execution_count": null,
      "outputs": [
        {
          "output_type": "execute_result",
          "data": {
            "text/html": [
              "\n",
              "  <div id=\"df-91266b8d-c915-41cd-bd02-f6ce65b2b4d6\">\n",
              "    <div class=\"colab-df-container\">\n",
              "      <div>\n",
              "<style scoped>\n",
              "    .dataframe tbody tr th:only-of-type {\n",
              "        vertical-align: middle;\n",
              "    }\n",
              "\n",
              "    .dataframe tbody tr th {\n",
              "        vertical-align: top;\n",
              "    }\n",
              "\n",
              "    .dataframe thead th {\n",
              "        text-align: right;\n",
              "    }\n",
              "</style>\n",
              "<table border=\"1\" class=\"dataframe\">\n",
              "  <thead>\n",
              "    <tr style=\"text-align: right;\">\n",
              "      <th></th>\n",
              "      <th>GAME_DATE_EST</th>\n",
              "      <th>GAME_ID</th>\n",
              "      <th>GAME_STATUS_TEXT</th>\n",
              "      <th>HOME_TEAM_ID</th>\n",
              "      <th>VISITOR_TEAM_ID</th>\n",
              "      <th>SEASON</th>\n",
              "      <th>TEAM_ID_home</th>\n",
              "      <th>PTS_home</th>\n",
              "      <th>FG_PCT_home</th>\n",
              "      <th>FT_PCT_home</th>\n",
              "      <th>FG3_PCT_home</th>\n",
              "      <th>AST_home</th>\n",
              "      <th>REB_home</th>\n",
              "      <th>TEAM_ID_away</th>\n",
              "      <th>PTS_away</th>\n",
              "      <th>FG_PCT_away</th>\n",
              "      <th>FT_PCT_away</th>\n",
              "      <th>FG3_PCT_away</th>\n",
              "      <th>AST_away</th>\n",
              "      <th>REB_away</th>\n",
              "      <th>HOME_TEAM_WINS</th>\n",
              "    </tr>\n",
              "  </thead>\n",
              "  <tbody>\n",
              "    <tr>\n",
              "      <th>35</th>\n",
              "      <td>2021-11-13</td>\n",
              "      <td>22100188</td>\n",
              "      <td>Final</td>\n",
              "      <td>1610612740</td>\n",
              "      <td>1610612763</td>\n",
              "      <td>2021</td>\n",
              "      <td>1610612740</td>\n",
              "      <td>112.0</td>\n",
              "      <td>0.481</td>\n",
              "      <td>0.880</td>\n",
              "      <td>0.483</td>\n",
              "      <td>29.0</td>\n",
              "      <td>37.0</td>\n",
              "      <td>1610612763</td>\n",
              "      <td>101.0</td>\n",
              "      <td>0.432</td>\n",
              "      <td>0.810</td>\n",
              "      <td>0.333</td>\n",
              "      <td>21.0</td>\n",
              "      <td>39.0</td>\n",
              "      <td>1</td>\n",
              "    </tr>\n",
              "    <tr>\n",
              "      <th>93</th>\n",
              "      <td>2021-11-05</td>\n",
              "      <td>22100126</td>\n",
              "      <td>Final</td>\n",
              "      <td>1610612764</td>\n",
              "      <td>1610612763</td>\n",
              "      <td>2021</td>\n",
              "      <td>1610612764</td>\n",
              "      <td>115.0</td>\n",
              "      <td>0.583</td>\n",
              "      <td>0.538</td>\n",
              "      <td>0.400</td>\n",
              "      <td>34.0</td>\n",
              "      <td>53.0</td>\n",
              "      <td>1610612763</td>\n",
              "      <td>87.0</td>\n",
              "      <td>0.354</td>\n",
              "      <td>0.765</td>\n",
              "      <td>0.194</td>\n",
              "      <td>19.0</td>\n",
              "      <td>39.0</td>\n",
              "      <td>1</td>\n",
              "    </tr>\n",
              "    <tr>\n",
              "      <th>158</th>\n",
              "      <td>2021-10-28</td>\n",
              "      <td>22100070</td>\n",
              "      <td>Final</td>\n",
              "      <td>1610612744</td>\n",
              "      <td>1610612763</td>\n",
              "      <td>2021</td>\n",
              "      <td>1610612744</td>\n",
              "      <td>101.0</td>\n",
              "      <td>0.433</td>\n",
              "      <td>0.750</td>\n",
              "      <td>0.350</td>\n",
              "      <td>29.0</td>\n",
              "      <td>48.0</td>\n",
              "      <td>1610612763</td>\n",
              "      <td>104.0</td>\n",
              "      <td>0.402</td>\n",
              "      <td>1.000</td>\n",
              "      <td>0.250</td>\n",
              "      <td>25.0</td>\n",
              "      <td>51.0</td>\n",
              "      <td>0</td>\n",
              "    </tr>\n",
              "    <tr>\n",
              "      <th>167</th>\n",
              "      <td>2021-10-27</td>\n",
              "      <td>22100063</td>\n",
              "      <td>Final</td>\n",
              "      <td>1610612757</td>\n",
              "      <td>1610612763</td>\n",
              "      <td>2021</td>\n",
              "      <td>1610612757</td>\n",
              "      <td>116.0</td>\n",
              "      <td>0.464</td>\n",
              "      <td>0.742</td>\n",
              "      <td>0.417</td>\n",
              "      <td>22.0</td>\n",
              "      <td>48.0</td>\n",
              "      <td>1610612763</td>\n",
              "      <td>96.0</td>\n",
              "      <td>0.365</td>\n",
              "      <td>0.474</td>\n",
              "      <td>0.340</td>\n",
              "      <td>27.0</td>\n",
              "      <td>50.0</td>\n",
              "      <td>1</td>\n",
              "    </tr>\n",
              "    <tr>\n",
              "      <th>188</th>\n",
              "      <td>2021-10-24</td>\n",
              "      <td>22100040</td>\n",
              "      <td>Final</td>\n",
              "      <td>1610612747</td>\n",
              "      <td>1610612763</td>\n",
              "      <td>2021</td>\n",
              "      <td>1610612747</td>\n",
              "      <td>121.0</td>\n",
              "      <td>0.536</td>\n",
              "      <td>0.682</td>\n",
              "      <td>0.533</td>\n",
              "      <td>29.0</td>\n",
              "      <td>36.0</td>\n",
              "      <td>1610612763</td>\n",
              "      <td>118.0</td>\n",
              "      <td>0.450</td>\n",
              "      <td>0.833</td>\n",
              "      <td>0.371</td>\n",
              "      <td>25.0</td>\n",
              "      <td>49.0</td>\n",
              "      <td>1</td>\n",
              "    </tr>\n",
              "    <tr>\n",
              "      <th>...</th>\n",
              "      <td>...</td>\n",
              "      <td>...</td>\n",
              "      <td>...</td>\n",
              "      <td>...</td>\n",
              "      <td>...</td>\n",
              "      <td>...</td>\n",
              "      <td>...</td>\n",
              "      <td>...</td>\n",
              "      <td>...</td>\n",
              "      <td>...</td>\n",
              "      <td>...</td>\n",
              "      <td>...</td>\n",
              "      <td>...</td>\n",
              "      <td>...</td>\n",
              "      <td>...</td>\n",
              "      <td>...</td>\n",
              "      <td>...</td>\n",
              "      <td>...</td>\n",
              "      <td>...</td>\n",
              "      <td>...</td>\n",
              "      <td>...</td>\n",
              "    </tr>\n",
              "    <tr>\n",
              "      <th>24891</th>\n",
              "      <td>2014-10-31</td>\n",
              "      <td>21400021</td>\n",
              "      <td>Final</td>\n",
              "      <td>1610612754</td>\n",
              "      <td>1610612763</td>\n",
              "      <td>2014</td>\n",
              "      <td>1610612754</td>\n",
              "      <td>89.0</td>\n",
              "      <td>0.459</td>\n",
              "      <td>0.813</td>\n",
              "      <td>0.381</td>\n",
              "      <td>19.0</td>\n",
              "      <td>46.0</td>\n",
              "      <td>1610612763</td>\n",
              "      <td>97.0</td>\n",
              "      <td>0.443</td>\n",
              "      <td>0.741</td>\n",
              "      <td>0.368</td>\n",
              "      <td>20.0</td>\n",
              "      <td>40.0</td>\n",
              "      <td>0</td>\n",
              "    </tr>\n",
              "    <tr>\n",
              "      <th>24948</th>\n",
              "      <td>2014-10-20</td>\n",
              "      <td>11400090</td>\n",
              "      <td>Final</td>\n",
              "      <td>1610612742</td>\n",
              "      <td>1610612763</td>\n",
              "      <td>2014</td>\n",
              "      <td>1610612742</td>\n",
              "      <td>108.0</td>\n",
              "      <td>0.483</td>\n",
              "      <td>0.778</td>\n",
              "      <td>0.357</td>\n",
              "      <td>29.0</td>\n",
              "      <td>49.0</td>\n",
              "      <td>1610612763</td>\n",
              "      <td>103.0</td>\n",
              "      <td>0.432</td>\n",
              "      <td>0.700</td>\n",
              "      <td>0.238</td>\n",
              "      <td>14.0</td>\n",
              "      <td>43.0</td>\n",
              "      <td>1</td>\n",
              "    </tr>\n",
              "    <tr>\n",
              "      <th>24981</th>\n",
              "      <td>2014-10-14</td>\n",
              "      <td>11400051</td>\n",
              "      <td>Final</td>\n",
              "      <td>1610612760</td>\n",
              "      <td>1610612763</td>\n",
              "      <td>2014</td>\n",
              "      <td>1610612760</td>\n",
              "      <td>117.0</td>\n",
              "      <td>0.533</td>\n",
              "      <td>0.939</td>\n",
              "      <td>0.286</td>\n",
              "      <td>22.0</td>\n",
              "      <td>33.0</td>\n",
              "      <td>1610612763</td>\n",
              "      <td>107.0</td>\n",
              "      <td>0.506</td>\n",
              "      <td>0.680</td>\n",
              "      <td>0.400</td>\n",
              "      <td>19.0</td>\n",
              "      <td>33.0</td>\n",
              "      <td>1</td>\n",
              "    </tr>\n",
              "    <tr>\n",
              "      <th>25003</th>\n",
              "      <td>2014-10-09</td>\n",
              "      <td>11400023</td>\n",
              "      <td>Final</td>\n",
              "      <td>1610612745</td>\n",
              "      <td>1610612763</td>\n",
              "      <td>2014</td>\n",
              "      <td>1610612745</td>\n",
              "      <td>113.0</td>\n",
              "      <td>0.420</td>\n",
              "      <td>0.795</td>\n",
              "      <td>0.467</td>\n",
              "      <td>21.0</td>\n",
              "      <td>50.0</td>\n",
              "      <td>1610612763</td>\n",
              "      <td>93.0</td>\n",
              "      <td>0.392</td>\n",
              "      <td>0.730</td>\n",
              "      <td>0.308</td>\n",
              "      <td>21.0</td>\n",
              "      <td>36.0</td>\n",
              "      <td>1</td>\n",
              "    </tr>\n",
              "    <tr>\n",
              "      <th>25009</th>\n",
              "      <td>2014-10-08</td>\n",
              "      <td>11400017</td>\n",
              "      <td>Final</td>\n",
              "      <td>1610612749</td>\n",
              "      <td>1610612763</td>\n",
              "      <td>2014</td>\n",
              "      <td>1610612749</td>\n",
              "      <td>86.0</td>\n",
              "      <td>0.413</td>\n",
              "      <td>0.636</td>\n",
              "      <td>0.500</td>\n",
              "      <td>23.0</td>\n",
              "      <td>49.0</td>\n",
              "      <td>1610612763</td>\n",
              "      <td>83.0</td>\n",
              "      <td>0.410</td>\n",
              "      <td>0.640</td>\n",
              "      <td>0.250</td>\n",
              "      <td>22.0</td>\n",
              "      <td>42.0</td>\n",
              "      <td>1</td>\n",
              "    </tr>\n",
              "  </tbody>\n",
              "</table>\n",
              "<p>828 rows × 21 columns</p>\n",
              "</div>\n",
              "      <button class=\"colab-df-convert\" onclick=\"convertToInteractive('df-91266b8d-c915-41cd-bd02-f6ce65b2b4d6')\"\n",
              "              title=\"Convert this dataframe to an interactive table.\"\n",
              "              style=\"display:none;\">\n",
              "        \n",
              "  <svg xmlns=\"http://www.w3.org/2000/svg\" height=\"24px\"viewBox=\"0 0 24 24\"\n",
              "       width=\"24px\">\n",
              "    <path d=\"M0 0h24v24H0V0z\" fill=\"none\"/>\n",
              "    <path d=\"M18.56 5.44l.94 2.06.94-2.06 2.06-.94-2.06-.94-.94-2.06-.94 2.06-2.06.94zm-11 1L8.5 8.5l.94-2.06 2.06-.94-2.06-.94L8.5 2.5l-.94 2.06-2.06.94zm10 10l.94 2.06.94-2.06 2.06-.94-2.06-.94-.94-2.06-.94 2.06-2.06.94z\"/><path d=\"M17.41 7.96l-1.37-1.37c-.4-.4-.92-.59-1.43-.59-.52 0-1.04.2-1.43.59L10.3 9.45l-7.72 7.72c-.78.78-.78 2.05 0 2.83L4 21.41c.39.39.9.59 1.41.59.51 0 1.02-.2 1.41-.59l7.78-7.78 2.81-2.81c.8-.78.8-2.07 0-2.86zM5.41 20L4 18.59l7.72-7.72 1.47 1.35L5.41 20z\"/>\n",
              "  </svg>\n",
              "      </button>\n",
              "      \n",
              "  <style>\n",
              "    .colab-df-container {\n",
              "      display:flex;\n",
              "      flex-wrap:wrap;\n",
              "      gap: 12px;\n",
              "    }\n",
              "\n",
              "    .colab-df-convert {\n",
              "      background-color: #E8F0FE;\n",
              "      border: none;\n",
              "      border-radius: 50%;\n",
              "      cursor: pointer;\n",
              "      display: none;\n",
              "      fill: #1967D2;\n",
              "      height: 32px;\n",
              "      padding: 0 0 0 0;\n",
              "      width: 32px;\n",
              "    }\n",
              "\n",
              "    .colab-df-convert:hover {\n",
              "      background-color: #E2EBFA;\n",
              "      box-shadow: 0px 1px 2px rgba(60, 64, 67, 0.3), 0px 1px 3px 1px rgba(60, 64, 67, 0.15);\n",
              "      fill: #174EA6;\n",
              "    }\n",
              "\n",
              "    [theme=dark] .colab-df-convert {\n",
              "      background-color: #3B4455;\n",
              "      fill: #D2E3FC;\n",
              "    }\n",
              "\n",
              "    [theme=dark] .colab-df-convert:hover {\n",
              "      background-color: #434B5C;\n",
              "      box-shadow: 0px 1px 3px 1px rgba(0, 0, 0, 0.15);\n",
              "      filter: drop-shadow(0px 1px 2px rgba(0, 0, 0, 0.3));\n",
              "      fill: #FFFFFF;\n",
              "    }\n",
              "  </style>\n",
              "\n",
              "      <script>\n",
              "        const buttonEl =\n",
              "          document.querySelector('#df-91266b8d-c915-41cd-bd02-f6ce65b2b4d6 button.colab-df-convert');\n",
              "        buttonEl.style.display =\n",
              "          google.colab.kernel.accessAllowed ? 'block' : 'none';\n",
              "\n",
              "        async function convertToInteractive(key) {\n",
              "          const element = document.querySelector('#df-91266b8d-c915-41cd-bd02-f6ce65b2b4d6');\n",
              "          const dataTable =\n",
              "            await google.colab.kernel.invokeFunction('convertToInteractive',\n",
              "                                                     [key], {});\n",
              "          if (!dataTable) return;\n",
              "\n",
              "          const docLinkHtml = 'Like what you see? Visit the ' +\n",
              "            '<a target=\"_blank\" href=https://colab.research.google.com/notebooks/data_table.ipynb>data table notebook</a>'\n",
              "            + ' to learn more about interactive tables.';\n",
              "          element.innerHTML = '';\n",
              "          dataTable['output_type'] = 'display_data';\n",
              "          await google.colab.output.renderOutput(dataTable, element);\n",
              "          const docLink = document.createElement('div');\n",
              "          docLink.innerHTML = docLinkHtml;\n",
              "          element.appendChild(docLink);\n",
              "        }\n",
              "      </script>\n",
              "    </div>\n",
              "  </div>\n",
              "  "
            ],
            "text/plain": [
              "      GAME_DATE_EST   GAME_ID  ... REB_away  HOME_TEAM_WINS\n",
              "35       2021-11-13  22100188  ...     39.0               1\n",
              "93       2021-11-05  22100126  ...     39.0               1\n",
              "158      2021-10-28  22100070  ...     51.0               0\n",
              "167      2021-10-27  22100063  ...     50.0               1\n",
              "188      2021-10-24  22100040  ...     49.0               1\n",
              "...             ...       ...  ...      ...             ...\n",
              "24891    2014-10-31  21400021  ...     40.0               0\n",
              "24948    2014-10-20  11400090  ...     43.0               1\n",
              "24981    2014-10-14  11400051  ...     33.0               1\n",
              "25003    2014-10-09  11400023  ...     36.0               1\n",
              "25009    2014-10-08  11400017  ...     42.0               1\n",
              "\n",
              "[828 rows x 21 columns]"
            ]
          },
          "metadata": {},
          "execution_count": 8
        }
      ]
    },
    {
      "cell_type": "code",
      "source": [
        "plt.subplot(1,2,1)\n",
        "plt.hist(mem_games['PTS_away'])\n",
        "plt.title('Memphis(A) Points')\n",
        "plt.subplot(1,2,2)\n",
        "plt.hist(mem_games['PTS_home'])\n",
        "plt.title('Memphis Opponent (H) Points')"
      ],
      "metadata": {
        "colab": {
          "base_uri": "https://localhost:8080/",
          "height": 299
        },
        "id": "p7H6ynWwYhA7",
        "outputId": "82cdcd72-a1df-43d9-c8b7-50807390e7ee"
      },
      "execution_count": null,
      "outputs": [
        {
          "output_type": "execute_result",
          "data": {
            "text/plain": [
              "Text(0.5, 1.0, 'Memphis Opponent Points')"
            ]
          },
          "metadata": {},
          "execution_count": 14
        },
        {
          "output_type": "display_data",
          "data": {
            "image/png": "[encoded data removed]",
            "text/plain": [
              "<Figure size 432x288 with 2 Axes>"
            ]
          },
          "metadata": {
            "needs_background": "light"
          }
        }
      ]
    },
    {
      "cell_type": "code",
      "source": [
        "plt.subplot(1,2,1)\n",
        "plt.hist(nyk_games['PTS_home'])\n",
        "plt.title('New York (H) Points')\n",
        "plt.subplot(1,2,2)\n",
        "plt.hist(mem_games['PTS_home'])\n",
        "plt.title('New York Opponent (A) Points')"
      ],
      "metadata": {
        "colab": {
          "base_uri": "https://localhost:8080/",
          "height": 299
        },
        "id": "w-F4ytKOZIwA",
        "outputId": "96f74482-d6ba-4648-bf60-ca742ea0eceb"
      },
      "execution_count": null,
      "outputs": [
        {
          "output_type": "execute_result",
          "data": {
            "text/plain": [
              "Text(0.5, 1.0, 'New York Opponent (A) Points')"
            ]
          },
          "metadata": {},
          "execution_count": 15
        },
        {
          "output_type": "display_data",
          "data": {
            "image/png": "[encoded data removed]",
            "text/plain": [
              "<Figure size 432x288 with 2 Axes>"
            ]
          },
          "metadata": {
            "needs_background": "light"
          }
        }
      ]
    },
    {
      "cell_type": "code",
      "source": [
        "mem_mean = mem_games['PTS_away'].mean()\n",
        "mem_std = mem_games['PTS_away'].std()\n",
        "memopp_mean = mem_games['PTS_home'].mean()\n",
        "memopp_std = mem_games['PTS_home'].std()\n",
        "print(\"Memphis mean points: \", mem_mean)\n",
        "print(\"Memphis points STD: \", mem_std)\n",
        "print(\"Memphis opposing mean points: \", memopp_mean)\n",
        "print(\"Memphis opposing points STD: \", memopp_std)"
      ],
      "metadata": {
        "colab": {
          "base_uri": "https://localhost:8080/"
        },
        "id": "7cyIPqbUZVnZ",
        "outputId": "76388cac-aae8-4577-a61a-acdb3bdfcf1d"
      },
      "execution_count": null,
      "outputs": [
        {
          "output_type": "stream",
          "name": "stdout",
          "text": [
            "Memphis mean points:  98.0969696969697\n",
            "Memphis points STD:  12.91008122037962\n",
            "Memphis opposing mean points:  101.32\n",
            "Memphis opposing points STD:  13.078901708588253\n"
          ]
        }
      ]
    },
    {
      "cell_type": "code",
      "source": [
        "nyk_mean = nyk_games['PTS_home'].mean()\n",
        "nyk_std = nyk_games['PTS_home'].std()\n",
        "nykopp_mean = nyk_games['PTS_away'].mean()\n",
        "nykopp_std = nyk_games['PTS_away'].std()\n",
        "print(\"New York mean points: \", nyk_mean)\n",
        "print(\"New York points STD: \", nyk_std)\n",
        "print(\"New York opposing mean points: \", nykopp_mean)\n",
        "print(\"New York opposing points STD: \", nykopp_std)"
      ],
      "metadata": {
        "colab": {
          "base_uri": "https://localhost:8080/"
        },
        "id": "isiWDGQVaFrI",
        "outputId": "5a99f38d-7804-4f9b-bac9-bcba47ebd092"
      },
      "execution_count": null,
      "outputs": [
        {
          "output_type": "stream",
          "name": "stdout",
          "text": [
            "New York mean points:  101.49744897959184\n",
            "New York points STD:  12.53684199777149\n",
            "New York opposing mean points:  101.99872448979592\n",
            "New York opposing points STD:  12.91573034423601\n"
          ]
        }
      ]
    },
    {
      "cell_type": "code",
      "source": [
        "rnd.gauss(mem_mean, mem_std)"
      ],
      "metadata": {
        "colab": {
          "base_uri": "https://localhost:8080/"
        },
        "id": "oL5gvNuiax7l",
        "outputId": "122ab430-b55d-4ac2-84b9-248d0488f820"
      },
      "execution_count": null,
      "outputs": [
        {
          "output_type": "execute_result",
          "data": {
            "text/plain": [
              "104.25642695067893"
            ]
          },
          "metadata": {},
          "execution_count": 30
        }
      ]
    },
    {
      "cell_type": "code",
      "source": [
        "def simGame():\n",
        "  memScore = round((rnd.gauss(mem_mean, mem_std) + rnd.gauss(nykopp_mean, nykopp_std))/2)\n",
        "  nykScore = round((rnd.gauss(nyk_mean, nyk_std) + rnd.gauss(memopp_mean, memopp_std))/2)\n",
        "  #print(\"Memphis: \", memScore, \"New York: \", nykScore)\n",
        "  if memScore > nykScore:\n",
        "    return 1, memScore, nykScore\n",
        "  elif memScore < nykScore:\n",
        "    return -1, memScore, nykScore\n",
        "  else:\n",
        "    return 0, memScore, nykScore"
      ],
      "metadata": {
        "id": "_xL1ylX-a-Vp"
      },
      "execution_count": null,
      "outputs": []
    },
    {
      "cell_type": "code",
      "source": [
        "simGame()"
      ],
      "metadata": {
        "colab": {
          "base_uri": "https://localhost:8080/"
        },
        "id": "gwppFjGJbjTc",
        "outputId": "ad8e0445-8048-4ee5-febe-936472f75af0"
      },
      "execution_count": null,
      "outputs": [
        {
          "output_type": "execute_result",
          "data": {
            "text/plain": [
              "(1, 97, 92)"
            ]
          },
          "metadata": {},
          "execution_count": 111
        }
      ]
    },
    {
      "cell_type": "code",
      "source": [
        "def simMultiple(games):\n",
        "  results = []\n",
        "  memScores = []\n",
        "  nykScores = []\n",
        "  team1win = 0\n",
        "  team2win = 0\n",
        "  tie = 0\n",
        "  for i in range(games):\n",
        "    gms = simGame()\n",
        "    results.append(gms[0])\n",
        "    if gms[0] == 1:\n",
        "      team1win += 1\n",
        "    elif gms[0] == -1:\n",
        "      team2win += 1\n",
        "    else:\n",
        "      tie += 1\n",
        "    memScores.append(gms[1])\n",
        "    nykScores.append(gms[2])\n",
        "    \n",
        "  print(\"Memphis win \", team1win/games)\n",
        "  print(\"New York win \", team2win/games)\n",
        "  print(\"Tie\", tie/games)\n",
        "  return(memScores, nykScores)\n"
      ],
      "metadata": {
        "id": "MZ0aEtrgeRmq"
      },
      "execution_count": null,
      "outputs": []
    },
    {
      "cell_type": "code",
      "source": [
        "totals = simMultiple(100000)\n",
        "pd.DataFrame(totals[0]).hist()\n",
        "plt.title(\"MEM average \" + str(np.mean(totals[0])))\n",
        "pd.DataFrame(totals[1]).hist()\n",
        "plt.title(\"NYK average \" +  str(np.mean(totals[1])))"
      ],
      "metadata": {
        "colab": {
          "base_uri": "https://localhost:8080/"
        },
        "id": "JLPHNmojfHe6",
        "outputId": "3b93d7f2-1b6b-4df0-ae91-a255d7079877"
      },
      "execution_count": null,
      "outputs": [
        {
          "output_type": "stream",
          "name": "stdout",
          "text": [
            "Memphis win  0.44182\n",
            "New York win  0.52721\n",
            "Tie 0.03097\n"
          ]
        }
      ]
    },
    {
      "cell_type": "code",
      "source": [
        ""
      ],
      "metadata": {
        "id": "Hm4dSIaPgZuY"
      },
      "execution_count": null,
      "outputs": []
    }
  ]
}